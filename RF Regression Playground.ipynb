{
 "cells": [
  {
   "cell_type": "markdown",
   "metadata": {},
   "source": [
    "## Problem Statement\n",
    "\n",
    "You are tasked with predicting the price of houses based on various features such as the area of the house, the number of bedrooms and bathrooms, parking spaces, and more. Your objective is to explore different machine learning models, including Linear Regression, Decision Tree, and Random Forest, to predict house prices and identify the key features that influence the price the most.\n",
    "\n",
    "### Tasks:\n",
    "\n",
    "- Explore and understand the dataset through visualizations and statistical analysis.\n",
    "- Build and evaluate different machine learning models for price prediction.\n",
    "- Share insights on the most important features affecting house prices using feature importance from decision tree and random forest models.\n",
    "- Compare Linear Regression and Random forest accuracy measures"
   ]
  },
  {
   "cell_type": "markdown",
   "metadata": {},
   "source": [
    "### Data Dictionary\n",
    "\n",
    "| **Index** | **Feature**        | **Description**                                             |\n",
    "|-----------|--------------------|-------------------------------------------------------------|\n",
    "| 1         | `price`            | The price of the house (in local currency)                  |\n",
    "| 2         | `area`             | Total area of the house (in square feet)                    |\n",
    "| 3         | `bedrooms`         | Number of bedrooms                                          |\n",
    "| 4         | `bathrooms`        | Number of bathrooms                                         |\n",
    "| 5         | `stories`          | Number of stories (floors) in the house                     |\n",
    "| 6         | `mainroad`         | Whether the house is facing the main road (`yes`/`no`)      |\n",
    "| 7         | `guestroom`        | Presence of a guest room (`yes`/`no`)                       |\n",
    "| 8         | `basement`         | Presence of a basement (`yes`/`no`)                         |\n",
    "| 9         | `hotwaterheating`  | Presence of hot water heating (`yes`/`no`)                  |\n",
    "| 10        | `airconditioning`  | Presence of air conditioning (`yes`/`no`)                   |\n",
    "| 11        | `parking`          | Number of parking spaces                                    |\n",
    "| 12        | `prefarea`         | Whether the house is located in a preferred area (`yes`/`no`)|\n",
    "| 13        | `furnishingstatus` | Furnishing status of the house (`furnished`/`semi-furnished`/`unfurnished`) |\n"
   ]
  },
  {
   "cell_type": "code",
   "execution_count": 40,
   "metadata": {},
   "outputs": [],
   "source": [
    "import pandas as pd"
   ]
  },
  {
   "cell_type": "markdown",
   "metadata": {},
   "source": [
    "### DATA FETCH"
   ]
  },
  {
   "cell_type": "code",
   "execution_count": 1,
   "metadata": {},
   "outputs": [],
   "source": [
    "data_url = \"https://raw.githubusercontent.com/vasudevgupta31/acadamic_datasets/refs/heads/master/Housing_LR.csv\""
   ]
  },
  {
   "cell_type": "code",
   "execution_count": 39,
   "metadata": {},
   "outputs": [],
   "source": [
    "data = pd.read_csv(data_url)"
   ]
  },
  {
   "cell_type": "code",
   "execution_count": null,
   "metadata": {},
   "outputs": [],
   "source": []
  },
  {
   "cell_type": "code",
   "execution_count": null,
   "metadata": {},
   "outputs": [],
   "source": []
  },
  {
   "cell_type": "code",
   "execution_count": null,
   "metadata": {},
   "outputs": [],
   "source": []
  },
  {
   "cell_type": "code",
   "execution_count": null,
   "metadata": {},
   "outputs": [],
   "source": []
  },
  {
   "cell_type": "code",
   "execution_count": null,
   "metadata": {},
   "outputs": [],
   "source": []
  },
  {
   "cell_type": "code",
   "execution_count": null,
   "metadata": {},
   "outputs": [],
   "source": []
  },
  {
   "cell_type": "code",
   "execution_count": null,
   "metadata": {},
   "outputs": [],
   "source": []
  },
  {
   "cell_type": "code",
   "execution_count": null,
   "metadata": {},
   "outputs": [],
   "source": []
  },
  {
   "cell_type": "code",
   "execution_count": null,
   "metadata": {},
   "outputs": [],
   "source": []
  },
  {
   "cell_type": "code",
   "execution_count": null,
   "metadata": {},
   "outputs": [],
   "source": []
  }
 ],
 "metadata": {
  "kernelspec": {
   "display_name": "Python 3",
   "language": "python",
   "name": "python3"
  },
  "language_info": {
   "codemirror_mode": {
    "name": "ipython",
    "version": 3
   },
   "file_extension": ".py",
   "mimetype": "text/x-python",
   "name": "python",
   "nbconvert_exporter": "python",
   "pygments_lexer": "ipython3",
   "version": "3.8.5"
  }
 },
 "nbformat": 4,
 "nbformat_minor": 4
}
